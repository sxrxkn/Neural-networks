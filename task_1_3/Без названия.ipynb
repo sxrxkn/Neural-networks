{
 "cells": [
  {
   "cell_type": "code",
   "execution_count": 12,
   "id": "79452cc9-8ecd-41c8-ae83-2232b4ed4dba",
   "metadata": {},
   "outputs": [],
   "source": [
    "import numpy as np\n",
    "import tensorflow as tf\n",
    "from tensorflow import keras\n",
    "import json\n",
    "import random"
   ]
  },
  {
   "cell_type": "code",
   "execution_count": 2,
   "id": "0ce9f789-c33a-488e-a741-6ef2a9d6555c",
   "metadata": {},
   "outputs": [],
   "source": [
    "with open('./input.json') as file:\n",
    "    data = json.load(file)"
   ]
  },
  {
   "cell_type": "code",
   "execution_count": 3,
   "id": "94596870-c86f-4531-8223-fa8773727765",
   "metadata": {},
   "outputs": [],
   "source": [
    "def generate_dataframe(data):\n",
    "    x, y = [], []\n",
    "    for _ in range(7000):\n",
    "        random_number = random.randint(0,9)\n",
    "\n",
    "        x.append(random.choice(data[str(random_number)]))\n",
    "        y.append(list(map(int, list('0' * random_number + '1' + (9 - random_number) * '0'))))\n",
    "    return x, y"
   ]
  },
  {
   "cell_type": "code",
   "execution_count": 4,
   "id": "ef9bb110-7b61-4696-8042-f8ad8e5aad38",
   "metadata": {},
   "outputs": [],
   "source": [
    "X, Y = generate_dataframe(data)"
   ]
  },
  {
   "cell_type": "code",
   "execution_count": 5,
   "id": "5f708472-97e3-4761-8155-b981635a8cc6",
   "metadata": {},
   "outputs": [],
   "source": [
    "def split(x, y, koef):\n",
    "    length = len(x)\n",
    "    X_train, Y_train = [], []\n",
    "    for _ in range(int(length * koef)):\n",
    "        random_number = random.randint(0,len(x) - 1)\n",
    "        \n",
    "        X_train.append(x.pop(random_number))\n",
    "        Y_train.append(y.pop(random_number))\n",
    "    return X_train, Y_train, x, y\n",
    "        "
   ]
  },
  {
   "cell_type": "code",
   "execution_count": 6,
   "id": "c43e02c0-671d-43dc-9682-0a1eec0c4490",
   "metadata": {},
   "outputs": [],
   "source": [
    "X_train, Y_train, X_temp, Y_temp = split(X, Y, 0.7)\n",
    "X_validation, Y_validation, X_test, Y_test = split(X_temp, Y_temp, 0.2)"
   ]
  },
  {
   "cell_type": "code",
   "execution_count": 7,
   "id": "2e3ec62e-10fd-4d4f-a48b-5be1ad463522",
   "metadata": {},
   "outputs": [],
   "source": [
    "model = keras.Sequential()\n",
    "model.add(keras.layers.Dense(input_shape=(35,), units=128, activation='relu'))\n",
    "model.add(keras.layers.Dense(30))\n",
    "model.add(keras.layers.Dense(25))\n",
    "model.add(keras.layers.Dense(20))\n",
    "model.add(keras.layers.Dense(15))\n",
    "model.add(keras.layers.Dense(10, activation='softmax'))"
   ]
  },
  {
   "cell_type": "code",
   "execution_count": 8,
   "id": "cde6a276-4e7b-4b97-b39a-c91713693aa2",
   "metadata": {},
   "outputs": [],
   "source": [
    "model.compile(optimizer='sgd',\n",
    "              loss='categorical_crossentropy',\n",
    "              metrics=['accuracy'])"
   ]
  },
  {
   "cell_type": "code",
   "execution_count": 9,
   "id": "63c2abbc-d09a-4643-84b9-abc3a8d77923",
   "metadata": {},
   "outputs": [
    {
     "name": "stdout",
     "output_type": "stream",
     "text": [
      "Epoch 1/5\n",
      "39/39 [==============================] - 3s 34ms/step - loss: 2.1963 - accuracy: 0.2616 - val_loss: 1.9873 - val_accuracy: 0.3905\n",
      "Epoch 2/5\n",
      "39/39 [==============================] - 0s 9ms/step - loss: 1.8300 - accuracy: 0.4986 - val_loss: 1.6185 - val_accuracy: 0.6833\n",
      "Epoch 3/5\n",
      "39/39 [==============================] - 0s 11ms/step - loss: 1.4541 - accuracy: 0.6927 - val_loss: 1.2383 - val_accuracy: 0.7952\n",
      "Epoch 4/5\n",
      "39/39 [==============================] - 0s 10ms/step - loss: 1.0816 - accuracy: 0.8555 - val_loss: 0.8887 - val_accuracy: 0.9571\n",
      "Epoch 5/5\n",
      "39/39 [==============================] - 0s 8ms/step - loss: 0.7534 - accuracy: 0.9520 - val_loss: 0.6045 - val_accuracy: 0.9571\n"
     ]
    },
    {
     "data": {
      "text/plain": [
       "<keras.callbacks.History at 0x1cfd2beae80>"
      ]
     },
     "execution_count": 9,
     "metadata": {},
     "output_type": "execute_result"
    }
   ],
   "source": [
    "model.fit(X_train, Y_train, epochs=5, batch_size=128, validation_data=(X_validation, Y_validation))"
   ]
  },
  {
   "cell_type": "code",
   "execution_count": 10,
   "id": "ed043432-5ab7-4318-84e7-26b6cf4856f1",
   "metadata": {},
   "outputs": [
    {
     "name": "stdout",
     "output_type": "stream",
     "text": [
      "53/53 [==============================] - 1s 6ms/step - loss: 0.6149 - accuracy: 0.9482\n",
      "Точность 0.9482142925262451\n"
     ]
    }
   ],
   "source": [
    "print(\"Точность\", model.evaluate(X_test, Y_test)[1])"
   ]
  },
  {
   "cell_type": "code",
   "execution_count": 11,
   "id": "3dadb940-67c9-420f-bda7-e12897b3a4bf",
   "metadata": {},
   "outputs": [
    {
     "data": {
      "text/plain": [
       "9"
      ]
     },
     "execution_count": 11,
     "metadata": {},
     "output_type": "execute_result"
    }
   ],
   "source": [
    "predicted_results = model.predict(np.array([0,1,1,1,0,1,0,0,0,1,1,0,0,0,1,0,1,1,1,1,0,0,0,0,1,1,0,0,0,1,0,1,1,1,0]).reshape(1,-1), batch_size=128)\n",
    "predicted_results.argmax()"
   ]
  },
  {
   "cell_type": "code",
   "execution_count": null,
   "id": "2d1fdf75-fa61-4c68-bf7e-5e835c17ffe1",
   "metadata": {},
   "outputs": [],
   "source": []
  },
  {
   "cell_type": "code",
   "execution_count": null,
   "id": "6f8003d1-6698-44b8-bcd4-fd9c76320a7a",
   "metadata": {},
   "outputs": [],
   "source": []
  }
 ],
 "metadata": {
  "kernelspec": {
   "display_name": "Python 3 (ipykernel)",
   "language": "python",
   "name": "python3"
  },
  "language_info": {
   "codemirror_mode": {
    "name": "ipython",
    "version": 3
   },
   "file_extension": ".py",
   "mimetype": "text/x-python",
   "name": "python",
   "nbconvert_exporter": "python",
   "pygments_lexer": "ipython3",
   "version": "3.9.7"
  }
 },
 "nbformat": 4,
 "nbformat_minor": 5
}
